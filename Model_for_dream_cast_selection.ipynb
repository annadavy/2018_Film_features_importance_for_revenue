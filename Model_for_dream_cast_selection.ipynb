{
 "cells": [
  {
   "cell_type": "markdown",
   "metadata": {},
   "source": [
    "### Could machine learning model help to choose the cast for a film?\n",
    "\n",
    "This analysis aims to check if it is possible to assess which actors and directors influence the most the financial success of a film based on the model feature importances. Data for the analysis comes from Kaggle and data.world and was used in the general film features importance analysis: https://github.com/annadavy/Film_features_importance_for_revenue/blob/master/Film_features_importance_for_revenue.ipynb\n"
   ]
  },
  {
   "cell_type": "code",
   "execution_count": 1,
   "metadata": {},
   "outputs": [],
   "source": [
    "import numpy as np\n",
    "import pandas as pd"
   ]
  },
  {
   "cell_type": "code",
   "execution_count": 2,
   "metadata": {},
   "outputs": [],
   "source": [
    "from sklearn.pipeline import Pipeline, make_pipeline\n",
    "from sklearn import  metrics\n",
    "from sklearn.model_selection import train_test_split, GridSearchCV,StratifiedKFold\n",
    "from sklearn.metrics import accuracy_score, confusion_matrix,precision_score,recall_score,f1_score,classification_report\n",
    "np.warnings.filterwarnings('ignore')"
   ]
  },
  {
   "cell_type": "code",
   "execution_count": 3,
   "metadata": {},
   "outputs": [
    {
     "data": {
      "text/html": [
       "<div>\n",
       "<style scoped>\n",
       "    .dataframe tbody tr th:only-of-type {\n",
       "        vertical-align: middle;\n",
       "    }\n",
       "\n",
       "    .dataframe tbody tr th {\n",
       "        vertical-align: top;\n",
       "    }\n",
       "\n",
       "    .dataframe thead th {\n",
       "        text-align: right;\n",
       "    }\n",
       "</style>\n",
       "<table border=\"1\" class=\"dataframe\">\n",
       "  <thead>\n",
       "    <tr style=\"text-align: right;\">\n",
       "      <th></th>\n",
       "      <th>color</th>\n",
       "      <th>director_name</th>\n",
       "      <th>num_critic_for_reviews</th>\n",
       "      <th>duration</th>\n",
       "      <th>director_facebook_likes</th>\n",
       "      <th>actor_3_facebook_likes</th>\n",
       "      <th>actor_2_name</th>\n",
       "      <th>actor_1_facebook_likes</th>\n",
       "      <th>gross</th>\n",
       "      <th>genres_x</th>\n",
       "      <th>...</th>\n",
       "      <th>production_countries</th>\n",
       "      <th>release_date</th>\n",
       "      <th>revenue</th>\n",
       "      <th>runtime</th>\n",
       "      <th>spoken_languages</th>\n",
       "      <th>status</th>\n",
       "      <th>title</th>\n",
       "      <th>video</th>\n",
       "      <th>vote_average</th>\n",
       "      <th>vote_count</th>\n",
       "    </tr>\n",
       "  </thead>\n",
       "  <tbody>\n",
       "    <tr>\n",
       "      <th>0</th>\n",
       "      <td>Color</td>\n",
       "      <td>James Cameron</td>\n",
       "      <td>723.0</td>\n",
       "      <td>178.0</td>\n",
       "      <td>0.0</td>\n",
       "      <td>855.0</td>\n",
       "      <td>Joel David Moore</td>\n",
       "      <td>1000.0</td>\n",
       "      <td>760505847.0</td>\n",
       "      <td>Action|Adventure|Fantasy|Sci-Fi</td>\n",
       "      <td>...</td>\n",
       "      <td>[{'iso_3166_1': 'US', 'name': 'United States o...</td>\n",
       "      <td>2009.0</td>\n",
       "      <td>2.787965e+09</td>\n",
       "      <td>162.0</td>\n",
       "      <td>[{'iso_639_1': 'en', 'name': 'English'}, {'iso...</td>\n",
       "      <td>Released</td>\n",
       "      <td>Avatar</td>\n",
       "      <td>False</td>\n",
       "      <td>7.2</td>\n",
       "      <td>12114.0</td>\n",
       "    </tr>\n",
       "    <tr>\n",
       "      <th>1</th>\n",
       "      <td>Color</td>\n",
       "      <td>Gore Verbinski</td>\n",
       "      <td>302.0</td>\n",
       "      <td>169.0</td>\n",
       "      <td>563.0</td>\n",
       "      <td>1000.0</td>\n",
       "      <td>Orlando Bloom</td>\n",
       "      <td>40000.0</td>\n",
       "      <td>309404152.0</td>\n",
       "      <td>Action|Adventure|Fantasy</td>\n",
       "      <td>...</td>\n",
       "      <td>[{'iso_3166_1': 'US', 'name': 'United States o...</td>\n",
       "      <td>2007.0</td>\n",
       "      <td>9.610000e+08</td>\n",
       "      <td>169.0</td>\n",
       "      <td>[{'iso_639_1': 'en', 'name': 'English'}]</td>\n",
       "      <td>Released</td>\n",
       "      <td>Pirates of the Caribbean: At World's End</td>\n",
       "      <td>False</td>\n",
       "      <td>6.9</td>\n",
       "      <td>4627.0</td>\n",
       "    </tr>\n",
       "    <tr>\n",
       "      <th>2</th>\n",
       "      <td>Color</td>\n",
       "      <td>Sam Mendes</td>\n",
       "      <td>602.0</td>\n",
       "      <td>148.0</td>\n",
       "      <td>0.0</td>\n",
       "      <td>161.0</td>\n",
       "      <td>Rory Kinnear</td>\n",
       "      <td>11000.0</td>\n",
       "      <td>200074175.0</td>\n",
       "      <td>Action|Adventure|Thriller</td>\n",
       "      <td>...</td>\n",
       "      <td>[{'iso_3166_1': 'GB', 'name': 'United Kingdom'...</td>\n",
       "      <td>2015.0</td>\n",
       "      <td>8.806746e+08</td>\n",
       "      <td>148.0</td>\n",
       "      <td>[{'iso_639_1': 'fr', 'name': 'Français'}, {'is...</td>\n",
       "      <td>Released</td>\n",
       "      <td>Spectre</td>\n",
       "      <td>False</td>\n",
       "      <td>6.3</td>\n",
       "      <td>4552.0</td>\n",
       "    </tr>\n",
       "    <tr>\n",
       "      <th>3</th>\n",
       "      <td>Color</td>\n",
       "      <td>Christopher Nolan</td>\n",
       "      <td>813.0</td>\n",
       "      <td>164.0</td>\n",
       "      <td>22000.0</td>\n",
       "      <td>23000.0</td>\n",
       "      <td>Christian Bale</td>\n",
       "      <td>27000.0</td>\n",
       "      <td>448130642.0</td>\n",
       "      <td>Action|Thriller</td>\n",
       "      <td>...</td>\n",
       "      <td>[{'iso_3166_1': 'US', 'name': 'United States o...</td>\n",
       "      <td>2012.0</td>\n",
       "      <td>1.084939e+09</td>\n",
       "      <td>165.0</td>\n",
       "      <td>[{'iso_639_1': 'en', 'name': 'English'}]</td>\n",
       "      <td>Released</td>\n",
       "      <td>The Dark Knight Rises</td>\n",
       "      <td>False</td>\n",
       "      <td>7.6</td>\n",
       "      <td>9263.0</td>\n",
       "    </tr>\n",
       "    <tr>\n",
       "      <th>4</th>\n",
       "      <td>Color</td>\n",
       "      <td>Andrew Stanton</td>\n",
       "      <td>462.0</td>\n",
       "      <td>132.0</td>\n",
       "      <td>475.0</td>\n",
       "      <td>530.0</td>\n",
       "      <td>Samantha Morton</td>\n",
       "      <td>640.0</td>\n",
       "      <td>73058679.0</td>\n",
       "      <td>Action|Adventure|Sci-Fi</td>\n",
       "      <td>...</td>\n",
       "      <td>[{'iso_3166_1': 'US', 'name': 'United States o...</td>\n",
       "      <td>2012.0</td>\n",
       "      <td>2.841391e+08</td>\n",
       "      <td>132.0</td>\n",
       "      <td>[{'iso_639_1': 'en', 'name': 'English'}]</td>\n",
       "      <td>Released</td>\n",
       "      <td>John Carter</td>\n",
       "      <td>False</td>\n",
       "      <td>6.1</td>\n",
       "      <td>2170.0</td>\n",
       "    </tr>\n",
       "  </tbody>\n",
       "</table>\n",
       "<p>5 rows × 48 columns</p>\n",
       "</div>"
      ],
      "text/plain": [
       "   color      director_name  num_critic_for_reviews  duration  \\\n",
       "0  Color      James Cameron                   723.0     178.0   \n",
       "1  Color     Gore Verbinski                   302.0     169.0   \n",
       "2  Color         Sam Mendes                   602.0     148.0   \n",
       "3  Color  Christopher Nolan                   813.0     164.0   \n",
       "4  Color     Andrew Stanton                   462.0     132.0   \n",
       "\n",
       "   director_facebook_likes  actor_3_facebook_likes      actor_2_name  \\\n",
       "0                      0.0                   855.0  Joel David Moore   \n",
       "1                    563.0                  1000.0     Orlando Bloom   \n",
       "2                      0.0                   161.0      Rory Kinnear   \n",
       "3                  22000.0                 23000.0    Christian Bale   \n",
       "4                    475.0                   530.0   Samantha Morton   \n",
       "\n",
       "   actor_1_facebook_likes        gross                         genres_x  \\\n",
       "0                  1000.0  760505847.0  Action|Adventure|Fantasy|Sci-Fi   \n",
       "1                 40000.0  309404152.0         Action|Adventure|Fantasy   \n",
       "2                 11000.0  200074175.0        Action|Adventure|Thriller   \n",
       "3                 27000.0  448130642.0                  Action|Thriller   \n",
       "4                   640.0   73058679.0          Action|Adventure|Sci-Fi   \n",
       "\n",
       "     ...                                   production_countries release_date  \\\n",
       "0    ...      [{'iso_3166_1': 'US', 'name': 'United States o...       2009.0   \n",
       "1    ...      [{'iso_3166_1': 'US', 'name': 'United States o...       2007.0   \n",
       "2    ...      [{'iso_3166_1': 'GB', 'name': 'United Kingdom'...       2015.0   \n",
       "3    ...      [{'iso_3166_1': 'US', 'name': 'United States o...       2012.0   \n",
       "4    ...      [{'iso_3166_1': 'US', 'name': 'United States o...       2012.0   \n",
       "\n",
       "        revenue  runtime                                   spoken_languages  \\\n",
       "0  2.787965e+09    162.0  [{'iso_639_1': 'en', 'name': 'English'}, {'iso...   \n",
       "1  9.610000e+08    169.0           [{'iso_639_1': 'en', 'name': 'English'}]   \n",
       "2  8.806746e+08    148.0  [{'iso_639_1': 'fr', 'name': 'Français'}, {'is...   \n",
       "3  1.084939e+09    165.0           [{'iso_639_1': 'en', 'name': 'English'}]   \n",
       "4  2.841391e+08    132.0           [{'iso_639_1': 'en', 'name': 'English'}]   \n",
       "\n",
       "     status                                     title  video  vote_average  \\\n",
       "0  Released                                    Avatar  False           7.2   \n",
       "1  Released  Pirates of the Caribbean: At World's End  False           6.9   \n",
       "2  Released                                   Spectre  False           6.3   \n",
       "3  Released                     The Dark Knight Rises  False           7.6   \n",
       "4  Released                               John Carter  False           6.1   \n",
       "\n",
       "  vote_count  \n",
       "0    12114.0  \n",
       "1     4627.0  \n",
       "2     4552.0  \n",
       "3     9263.0  \n",
       "4     2170.0  \n",
       "\n",
       "[5 rows x 48 columns]"
      ]
     },
     "execution_count": 3,
     "metadata": {},
     "output_type": "execute_result"
    }
   ],
   "source": [
    "data=pd.read_csv('allFilms1.csv')\n",
    "data=data.drop('Unnamed: 0',axis=1)\n",
    "data=data.reset_index(drop=True)\n",
    "data.head()"
   ]
  },
  {
   "cell_type": "code",
   "execution_count": 4,
   "metadata": {},
   "outputs": [
    {
     "data": {
      "text/plain": [
       "Index(['color', 'director_name', 'num_critic_for_reviews', 'duration',\n",
       "       'director_facebook_likes', 'actor_3_facebook_likes', 'actor_2_name',\n",
       "       'actor_1_facebook_likes', 'gross', 'genres_x', 'actor_1_name',\n",
       "       'movie_title', 'num_voted_users', 'cast_total_facebook_likes',\n",
       "       'actor_3_name', 'facenumber_in_poster', 'plot_keywords',\n",
       "       'movie_imdb_link', 'num_user_for_reviews', 'language', 'country',\n",
       "       'content_rating', 'budget_x', 'title_year', 'actor_2_facebook_likes',\n",
       "       'imdb_score', 'movie_facebook_likes', 'adult', 'budget_y', 'genres_y',\n",
       "       'id', 'imdb_id', 'original_language', 'original_title', 'overview',\n",
       "       'popularity', 'poster_path', 'production_companies',\n",
       "       'production_countries', 'release_date', 'revenue', 'runtime',\n",
       "       'spoken_languages', 'status', 'title', 'video', 'vote_average',\n",
       "       'vote_count'],\n",
       "      dtype='object')"
      ]
     },
     "execution_count": 4,
     "metadata": {},
     "output_type": "execute_result"
    }
   ],
   "source": [
    "data.columns"
   ]
  },
  {
   "cell_type": "markdown",
   "metadata": {},
   "source": [
    "__Creating a dataframe with the cast info:__"
   ]
  },
  {
   "cell_type": "code",
   "execution_count": 5,
   "metadata": {},
   "outputs": [],
   "source": [
    "cast=data[['director_name','actor_2_name','actor_1_name','actor_3_name','budget_y','revenue']]"
   ]
  },
  {
   "cell_type": "code",
   "execution_count": 6,
   "metadata": {},
   "outputs": [
    {
     "data": {
      "text/html": [
       "<div>\n",
       "<style scoped>\n",
       "    .dataframe tbody tr th:only-of-type {\n",
       "        vertical-align: middle;\n",
       "    }\n",
       "\n",
       "    .dataframe tbody tr th {\n",
       "        vertical-align: top;\n",
       "    }\n",
       "\n",
       "    .dataframe thead th {\n",
       "        text-align: right;\n",
       "    }\n",
       "</style>\n",
       "<table border=\"1\" class=\"dataframe\">\n",
       "  <thead>\n",
       "    <tr style=\"text-align: right;\">\n",
       "      <th></th>\n",
       "      <th>director_name</th>\n",
       "      <th>actor_2_name</th>\n",
       "      <th>actor_1_name</th>\n",
       "      <th>actor_3_name</th>\n",
       "      <th>budget_y</th>\n",
       "      <th>revenue</th>\n",
       "    </tr>\n",
       "  </thead>\n",
       "  <tbody>\n",
       "    <tr>\n",
       "      <th>0</th>\n",
       "      <td>James Cameron</td>\n",
       "      <td>Joel David Moore</td>\n",
       "      <td>CCH Pounder</td>\n",
       "      <td>Wes Studi</td>\n",
       "      <td>237000000</td>\n",
       "      <td>2.787965e+09</td>\n",
       "    </tr>\n",
       "    <tr>\n",
       "      <th>1</th>\n",
       "      <td>Gore Verbinski</td>\n",
       "      <td>Orlando Bloom</td>\n",
       "      <td>Johnny Depp</td>\n",
       "      <td>Jack Davenport</td>\n",
       "      <td>300000000</td>\n",
       "      <td>9.610000e+08</td>\n",
       "    </tr>\n",
       "    <tr>\n",
       "      <th>2</th>\n",
       "      <td>Sam Mendes</td>\n",
       "      <td>Rory Kinnear</td>\n",
       "      <td>Christoph Waltz</td>\n",
       "      <td>Stephanie Sigman</td>\n",
       "      <td>245000000</td>\n",
       "      <td>8.806746e+08</td>\n",
       "    </tr>\n",
       "    <tr>\n",
       "      <th>3</th>\n",
       "      <td>Christopher Nolan</td>\n",
       "      <td>Christian Bale</td>\n",
       "      <td>Tom Hardy</td>\n",
       "      <td>Joseph Gordon-Levitt</td>\n",
       "      <td>250000000</td>\n",
       "      <td>1.084939e+09</td>\n",
       "    </tr>\n",
       "    <tr>\n",
       "      <th>4</th>\n",
       "      <td>Andrew Stanton</td>\n",
       "      <td>Samantha Morton</td>\n",
       "      <td>Daryl Sabara</td>\n",
       "      <td>Polly Walker</td>\n",
       "      <td>260000000</td>\n",
       "      <td>2.841391e+08</td>\n",
       "    </tr>\n",
       "  </tbody>\n",
       "</table>\n",
       "</div>"
      ],
      "text/plain": [
       "       director_name      actor_2_name     actor_1_name          actor_3_name  \\\n",
       "0      James Cameron  Joel David Moore      CCH Pounder             Wes Studi   \n",
       "1     Gore Verbinski     Orlando Bloom      Johnny Depp        Jack Davenport   \n",
       "2         Sam Mendes      Rory Kinnear  Christoph Waltz      Stephanie Sigman   \n",
       "3  Christopher Nolan    Christian Bale        Tom Hardy  Joseph Gordon-Levitt   \n",
       "4     Andrew Stanton   Samantha Morton     Daryl Sabara          Polly Walker   \n",
       "\n",
       "    budget_y       revenue  \n",
       "0  237000000  2.787965e+09  \n",
       "1  300000000  9.610000e+08  \n",
       "2  245000000  8.806746e+08  \n",
       "3  250000000  1.084939e+09  \n",
       "4  260000000  2.841391e+08  "
      ]
     },
     "execution_count": 6,
     "metadata": {},
     "output_type": "execute_result"
    }
   ],
   "source": [
    "cast.head()"
   ]
  },
  {
   "cell_type": "code",
   "execution_count": 7,
   "metadata": {},
   "outputs": [
    {
     "data": {
      "text/plain": [
       "(4458, 6)"
      ]
     },
     "execution_count": 7,
     "metadata": {},
     "output_type": "execute_result"
    }
   ],
   "source": [
    "cast.shape"
   ]
  },
  {
   "cell_type": "code",
   "execution_count": 8,
   "metadata": {},
   "outputs": [],
   "source": [
    "cast=cast.drop_duplicates()"
   ]
  },
  {
   "cell_type": "code",
   "execution_count": 9,
   "metadata": {},
   "outputs": [
    {
     "data": {
      "text/plain": [
       "(4337, 6)"
      ]
     },
     "execution_count": 9,
     "metadata": {},
     "output_type": "execute_result"
    }
   ],
   "source": [
    "cast.shape"
   ]
  },
  {
   "cell_type": "markdown",
   "metadata": {},
   "source": [
    "__Replacing all the budget values == 0 by budget mean in oreder to be able to calculate the result:__"
   ]
  },
  {
   "cell_type": "code",
   "execution_count": 11,
   "metadata": {},
   "outputs": [
    {
     "data": {
      "text/plain": [
       "38154634.33446232"
      ]
     },
     "execution_count": 11,
     "metadata": {},
     "output_type": "execute_result"
    }
   ],
   "source": [
    "cast.budget_y[cast.budget_y!=0].mean()"
   ]
  },
  {
   "cell_type": "code",
   "execution_count": 12,
   "metadata": {},
   "outputs": [],
   "source": [
    "cast.budget_y[cast.budget_y==0]=cast.budget_y[cast.budget_y!=0].mean()"
   ]
  },
  {
   "cell_type": "code",
   "execution_count": 13,
   "metadata": {},
   "outputs": [
    {
     "data": {
      "text/plain": [
       "38154634.33446338"
      ]
     },
     "execution_count": 13,
     "metadata": {},
     "output_type": "execute_result"
    }
   ],
   "source": [
    "cast.budget_y.mean()"
   ]
  },
  {
   "cell_type": "code",
   "execution_count": 16,
   "metadata": {},
   "outputs": [],
   "source": [
    "import seaborn as sns"
   ]
  },
  {
   "cell_type": "code",
   "execution_count": 17,
   "metadata": {},
   "outputs": [
    {
     "data": {
      "image/png": "[encoded data removed]",
      "text/plain": [
       "<Figure size 432x288 with 1 Axes>"
      ]
     },
     "metadata": {
      "needs_background": "light"
     },
     "output_type": "display_data"
    }
   ],
   "source": [
    "ax=sns.scatterplot(cast.budget_y/1000000,cast.revenue/1000000)"
   ]
  },
  {
   "cell_type": "markdown",
   "metadata": {},
   "source": [
    "__Adding a 'result' and 'target' columns to check which film was a financial success:__"
   ]
  },
  {
   "cell_type": "code",
   "execution_count": 18,
   "metadata": {},
   "outputs": [],
   "source": [
    "cast['result']=cast.revenue/cast.budget_y"
   ]
  },
  {
   "cell_type": "code",
   "execution_count": 19,
   "metadata": {},
   "outputs": [],
   "source": [
    "cast.loc[cast['result'] >=2, 'target'] = 1\n",
    "cast.loc[cast['result'] <2, 'target'] = 0"
   ]
  },
  {
   "cell_type": "markdown",
   "metadata": {},
   "source": [
    "__Checking for NaN values:__"
   ]
  },
  {
   "cell_type": "code",
   "execution_count": 20,
   "metadata": {},
   "outputs": [
    {
     "data": {
      "text/plain": [
       "director_name     0\n",
       "actor_2_name      4\n",
       "actor_1_name      3\n",
       "actor_3_name     10\n",
       "budget_y          0\n",
       "revenue           0\n",
       "result            0\n",
       "target            0\n",
       "dtype: int64"
      ]
     },
     "execution_count": 20,
     "metadata": {},
     "output_type": "execute_result"
    }
   ],
   "source": [
    "cast.isnull().sum()"
   ]
  },
  {
   "cell_type": "code",
   "execution_count": 21,
   "metadata": {},
   "outputs": [],
   "source": [
    "cast=cast.dropna()"
   ]
  },
  {
   "cell_type": "code",
   "execution_count": 22,
   "metadata": {},
   "outputs": [
    {
     "data": {
      "text/plain": [
       "(4327, 8)"
      ]
     },
     "execution_count": 22,
     "metadata": {},
     "output_type": "execute_result"
    }
   ],
   "source": [
    "cast.shape"
   ]
  },
  {
   "cell_type": "markdown",
   "metadata": {},
   "source": [
    "__Using one hot encoding for all the actors and directors names:__"
   ]
  },
  {
   "cell_type": "code",
   "execution_count": 23,
   "metadata": {},
   "outputs": [],
   "source": [
    "cast=pd.get_dummies(cast[cast.columns])"
   ]
  },
  {
   "cell_type": "code",
   "execution_count": 24,
   "metadata": {},
   "outputs": [
    {
     "data": {
      "text/html": [
       "<div>\n",
       "<style scoped>\n",
       "    .dataframe tbody tr th:only-of-type {\n",
       "        vertical-align: middle;\n",
       "    }\n",
       "\n",
       "    .dataframe tbody tr th {\n",
       "        vertical-align: top;\n",
       "    }\n",
       "\n",
       "    .dataframe thead th {\n",
       "        text-align: right;\n",
       "    }\n",
       "</style>\n",
       "<table border=\"1\" class=\"dataframe\">\n",
       "  <thead>\n",
       "    <tr style=\"text-align: right;\">\n",
       "      <th></th>\n",
       "      <th>budget_y</th>\n",
       "      <th>revenue</th>\n",
       "      <th>result</th>\n",
       "      <th>target</th>\n",
       "      <th>director_name_Aaron Hann</th>\n",
       "      <th>director_name_Aaron Seltzer</th>\n",
       "      <th>director_name_Abel Ferrara</th>\n",
       "      <th>director_name_Adam Brooks</th>\n",
       "      <th>director_name_Adam Carolla</th>\n",
       "      <th>director_name_Adam Goldberg</th>\n",
       "      <th>...</th>\n",
       "      <th>actor_3_name_Zhonghua Chen</th>\n",
       "      <th>actor_3_name_Zinedine Soualem</th>\n",
       "      <th>actor_3_name_Zoe Kazan</th>\n",
       "      <th>actor_3_name_Zoe Levin</th>\n",
       "      <th>actor_3_name_Zooey Deschanel</th>\n",
       "      <th>actor_3_name_Zoë Bell</th>\n",
       "      <th>actor_3_name_Zoë Kravitz</th>\n",
       "      <th>actor_3_name_Ángela Molina</th>\n",
       "      <th>actor_3_name_Émilie Dequenne</th>\n",
       "      <th>actor_3_name_Óscar Jaenada</th>\n",
       "    </tr>\n",
       "  </thead>\n",
       "  <tbody>\n",
       "    <tr>\n",
       "      <th>0</th>\n",
       "      <td>237000000.0</td>\n",
       "      <td>2.787965e+09</td>\n",
       "      <td>11.763566</td>\n",
       "      <td>1.0</td>\n",
       "      <td>0</td>\n",
       "      <td>0</td>\n",
       "      <td>0</td>\n",
       "      <td>0</td>\n",
       "      <td>0</td>\n",
       "      <td>0</td>\n",
       "      <td>...</td>\n",
       "      <td>0</td>\n",
       "      <td>0</td>\n",
       "      <td>0</td>\n",
       "      <td>0</td>\n",
       "      <td>0</td>\n",
       "      <td>0</td>\n",
       "      <td>0</td>\n",
       "      <td>0</td>\n",
       "      <td>0</td>\n",
       "      <td>0</td>\n",
       "    </tr>\n",
       "    <tr>\n",
       "      <th>1</th>\n",
       "      <td>300000000.0</td>\n",
       "      <td>9.610000e+08</td>\n",
       "      <td>3.203333</td>\n",
       "      <td>1.0</td>\n",
       "      <td>0</td>\n",
       "      <td>0</td>\n",
       "      <td>0</td>\n",
       "      <td>0</td>\n",
       "      <td>0</td>\n",
       "      <td>0</td>\n",
       "      <td>...</td>\n",
       "      <td>0</td>\n",
       "      <td>0</td>\n",
       "      <td>0</td>\n",
       "      <td>0</td>\n",
       "      <td>0</td>\n",
       "      <td>0</td>\n",
       "      <td>0</td>\n",
       "      <td>0</td>\n",
       "      <td>0</td>\n",
       "      <td>0</td>\n",
       "    </tr>\n",
       "    <tr>\n",
       "      <th>2</th>\n",
       "      <td>245000000.0</td>\n",
       "      <td>8.806746e+08</td>\n",
       "      <td>3.594590</td>\n",
       "      <td>1.0</td>\n",
       "      <td>0</td>\n",
       "      <td>0</td>\n",
       "      <td>0</td>\n",
       "      <td>0</td>\n",
       "      <td>0</td>\n",
       "      <td>0</td>\n",
       "      <td>...</td>\n",
       "      <td>0</td>\n",
       "      <td>0</td>\n",
       "      <td>0</td>\n",
       "      <td>0</td>\n",
       "      <td>0</td>\n",
       "      <td>0</td>\n",
       "      <td>0</td>\n",
       "      <td>0</td>\n",
       "      <td>0</td>\n",
       "      <td>0</td>\n",
       "    </tr>\n",
       "    <tr>\n",
       "      <th>3</th>\n",
       "      <td>250000000.0</td>\n",
       "      <td>1.084939e+09</td>\n",
       "      <td>4.339756</td>\n",
       "      <td>1.0</td>\n",
       "      <td>0</td>\n",
       "      <td>0</td>\n",
       "      <td>0</td>\n",
       "      <td>0</td>\n",
       "      <td>0</td>\n",
       "      <td>0</td>\n",
       "      <td>...</td>\n",
       "      <td>0</td>\n",
       "      <td>0</td>\n",
       "      <td>0</td>\n",
       "      <td>0</td>\n",
       "      <td>0</td>\n",
       "      <td>0</td>\n",
       "      <td>0</td>\n",
       "      <td>0</td>\n",
       "      <td>0</td>\n",
       "      <td>0</td>\n",
       "    </tr>\n",
       "    <tr>\n",
       "      <th>4</th>\n",
       "      <td>260000000.0</td>\n",
       "      <td>2.841391e+08</td>\n",
       "      <td>1.092843</td>\n",
       "      <td>0.0</td>\n",
       "      <td>0</td>\n",
       "      <td>0</td>\n",
       "      <td>0</td>\n",
       "      <td>0</td>\n",
       "      <td>0</td>\n",
       "      <td>0</td>\n",
       "      <td>...</td>\n",
       "      <td>0</td>\n",
       "      <td>0</td>\n",
       "      <td>0</td>\n",
       "      <td>0</td>\n",
       "      <td>0</td>\n",
       "      <td>0</td>\n",
       "      <td>0</td>\n",
       "      <td>0</td>\n",
       "      <td>0</td>\n",
       "      <td>0</td>\n",
       "    </tr>\n",
       "  </tbody>\n",
       "</table>\n",
       "<p>5 rows × 9612 columns</p>\n",
       "</div>"
      ],
      "text/plain": [
       "      budget_y       revenue     result  target  director_name_Aaron Hann  \\\n",
       "0  237000000.0  2.787965e+09  11.763566     1.0                         0   \n",
       "1  300000000.0  9.610000e+08   3.203333     1.0                         0   \n",
       "2  245000000.0  8.806746e+08   3.594590     1.0                         0   \n",
       "3  250000000.0  1.084939e+09   4.339756     1.0                         0   \n",
       "4  260000000.0  2.841391e+08   1.092843     0.0                         0   \n",
       "\n",
       "   director_name_Aaron Seltzer  director_name_Abel Ferrara  \\\n",
       "0                            0                           0   \n",
       "1                            0                           0   \n",
       "2                            0                           0   \n",
       "3                            0                           0   \n",
       "4                            0                           0   \n",
       "\n",
       "   director_name_Adam Brooks  director_name_Adam Carolla  \\\n",
       "0                          0                           0   \n",
       "1                          0                           0   \n",
       "2                          0                           0   \n",
       "3                          0                           0   \n",
       "4                          0                           0   \n",
       "\n",
       "   director_name_Adam Goldberg             ...              \\\n",
       "0                            0             ...               \n",
       "1                            0             ...               \n",
       "2                            0             ...               \n",
       "3                            0             ...               \n",
       "4                            0             ...               \n",
       "\n",
       "   actor_3_name_Zhonghua Chen  actor_3_name_Zinedine Soualem  \\\n",
       "0                           0                              0   \n",
       "1                           0                              0   \n",
       "2                           0                              0   \n",
       "3                           0                              0   \n",
       "4                           0                              0   \n",
       "\n",
       "   actor_3_name_Zoe Kazan  actor_3_name_Zoe Levin  \\\n",
       "0                       0                       0   \n",
       "1                       0                       0   \n",
       "2                       0                       0   \n",
       "3                       0                       0   \n",
       "4                       0                       0   \n",
       "\n",
       "   actor_3_name_Zooey Deschanel  actor_3_name_Zoë Bell  \\\n",
       "0                             0                      0   \n",
       "1                             0                      0   \n",
       "2                             0                      0   \n",
       "3                             0                      0   \n",
       "4                             0                      0   \n",
       "\n",
       "   actor_3_name_Zoë Kravitz  actor_3_name_Ángela Molina  \\\n",
       "0                         0                           0   \n",
       "1                         0                           0   \n",
       "2                         0                           0   \n",
       "3                         0                           0   \n",
       "4                         0                           0   \n",
       "\n",
       "   actor_3_name_Émilie Dequenne  actor_3_name_Óscar Jaenada  \n",
       "0                             0                           0  \n",
       "1                             0                           0  \n",
       "2                             0                           0  \n",
       "3                             0                           0  \n",
       "4                             0                           0  \n",
       "\n",
       "[5 rows x 9612 columns]"
      ]
     },
     "execution_count": 24,
     "metadata": {},
     "output_type": "execute_result"
    }
   ],
   "source": [
    "cast.head()"
   ]
  },
  {
   "cell_type": "markdown",
   "metadata": {},
   "source": [
    "__Fitting the RandomForestClassifier:__"
   ]
  },
  {
   "cell_type": "code",
   "execution_count": 26,
   "metadata": {},
   "outputs": [],
   "source": [
    "from sklearn.pipeline import Pipeline, make_pipeline\n",
    "from sklearn.decomposition import PCA\n",
    "from sklearn.model_selection import cross_val_score, cross_val_predict\n",
    "from sklearn import  metrics\n",
    "from sklearn.metrics import accuracy_score, confusion_matrix\n",
    "from sklearn.model_selection import train_test_split, GridSearchCV,StratifiedKFold\n",
    "from sklearn.ensemble import RandomForestClassifier\n",
    "from sklearn.metrics import accuracy_score, confusion_matrix,precision_score,recall_score,f1_score,classification_report"
   ]
  },
  {
   "cell_type": "code",
   "execution_count": 27,
   "metadata": {},
   "outputs": [],
   "source": [
    "X=cast.drop(['budget_y','revenue','result','target'],1)\n",
    "y=cast.target"
   ]
  },
  {
   "cell_type": "code",
   "execution_count": 28,
   "metadata": {},
   "outputs": [],
   "source": [
    "X_train, X_test, y_train, y_test=train_test_split(X,y, test_size=0.3, random_state=123)"
   ]
  },
  {
   "cell_type": "code",
   "execution_count": 29,
   "metadata": {},
   "outputs": [
    {
     "name": "stdout",
     "output_type": "stream",
     "text": [
      "{'forest__max_depth': 400, 'forest__n_estimators': 1000}\n",
      "0.6235138705416117\n",
      "0.6451116243264049\n"
     ]
    }
   ],
   "source": [
    "pipe=Pipeline([(\"forest\", RandomForestClassifier())])\n",
    "               \n",
    "param_grid={\"forest__n_estimators\":[300,500,1000],\n",
    "            \"forest__max_depth\":[100,400,700]}\n",
    "\n",
    "gs=GridSearchCV(pipe, param_grid,scoring='accuracy', cv=5, n_jobs=6)\n",
    "gs.fit(X_train,y_train)\n",
    "\n",
    "print(gs.best_params_)\n",
    "print(gs.best_score_)\n",
    "print(accuracy_score(gs.best_estimator_.predict(X_test),y_test))"
   ]
  },
  {
   "cell_type": "markdown",
   "metadata": {},
   "source": [
    "__Checking feature importances (in this case actors and directors influence on the film financial result) for the model with the best parameters:__"
   ]
  },
  {
   "cell_type": "code",
   "execution_count": 30,
   "metadata": {},
   "outputs": [
    {
     "data": {
      "text/plain": [
       "RandomForestClassifier(bootstrap=True, class_weight=None, criterion='gini',\n",
       "            max_depth=400, max_features='auto', max_leaf_nodes=None,\n",
       "            min_impurity_decrease=0.0, min_impurity_split=None,\n",
       "            min_samples_leaf=1, min_samples_split=2,\n",
       "            min_weight_fraction_leaf=0.0, n_estimators=300, n_jobs=6,\n",
       "            oob_score=False, random_state=0, verbose=0, warm_start=False)"
      ]
     },
     "execution_count": 30,
     "metadata": {},
     "output_type": "execute_result"
    }
   ],
   "source": [
    "forest=RandomForestClassifier(n_estimators=300, max_depth=400,random_state=0,n_jobs=6)\n",
    "forest.fit(X_train,y_train)"
   ]
  },
  {
   "cell_type": "code",
   "execution_count": 32,
   "metadata": {},
   "outputs": [
    {
     "name": "stdout",
     "output_type": "stream",
     "text": [
      " 1)director_name_Steven Spielberg0.006525\n",
      " 2)actor_1_name_Tom Cruise       0.004091\n",
      " 3)actor_1_name_Will Smith       0.003802\n",
      " 4)actor_2_name_Morgan Freeman   0.003507\n",
      " 5)director_name_Christopher Nolan0.003491\n",
      " 6)director_name_Michael Bay     0.003353\n",
      " 7)director_name_George A. Romero0.003153\n",
      " 8)actor_1_name_Tom Hanks        0.002921\n",
      " 9)actor_2_name_Thomas Kretschmann0.002858\n",
      "10)actor_1_name_Robert Pattinson 0.002848\n",
      "11)actor_2_name_Brad Pitt        0.002720\n",
      "12)actor_1_name_Harrison Ford    0.002637\n",
      "13)director_name_Quentin Tarantino0.002503\n",
      "14)actor_1_name_Scarlett Johansson0.002482\n",
      "15)director_name_Jon M. Chu      0.002448\n",
      "16)director_name_M. Night Shyamalan0.002282\n",
      "17)director_name_Rob Cohen       0.002248\n",
      "18)actor_2_name_Matt Damon       0.002226\n",
      "19)actor_1_name_Madeline Kahn    0.002225\n",
      "20)director_name_David Lean      0.002221\n",
      "21)director_name_Tom Shadyac     0.002115\n",
      "22)director_name_Carlos Saldanha 0.002109\n",
      "23)director_name_Shawn Levy      0.002061\n",
      "24)director_name_Joel Schumacher 0.002015\n",
      "25)director_name_Nicholas Stoller0.002003\n",
      "26)director_name_Steve Carr      0.001984\n",
      "27)actor_1_name_Bill Murray      0.001951\n",
      "28)actor_3_name_Steve Coogan     0.001920\n",
      "29)actor_1_name_Adam Sandler     0.001906\n",
      "30)actor_1_name_Chloë Grace Moretz0.001877\n",
      "31)director_name_Alfred Hitchcock0.001853\n",
      "32)director_name_John Glen       0.001837\n",
      "33)actor_2_name_Adam Sandler     0.001830\n",
      "34)director_name_Guy Hamilton    0.001814\n",
      "35)actor_2_name_John Ratzenberger0.001803\n",
      "36)director_name_Todd Phillips   0.001700\n",
      "37)actor_1_name_Jake Gyllenhaal  0.001680\n",
      "38)actor_1_name_Chris Hemsworth  0.001659\n",
      "39)director_name_Mikael Håfström 0.001626\n",
      "40)actor_1_name_Kane Hodder      0.001588\n",
      "41)director_name_John Moore      0.001584\n",
      "42)director_name_Michael Curtiz  0.001577\n",
      "43)director_name_Nick Cassavetes 0.001559\n",
      "44)actor_1_name_Judge Reinhold   0.001549\n",
      "45)director_name_Raja Gosnell    0.001542\n",
      "46)director_name_James Cameron   0.001518\n",
      "47)director_name_John Erick Dowdle0.001505\n",
      "48)actor_1_name_Sylvester Stallone0.001498\n",
      "49)actor_2_name_Monica Potter    0.001484\n",
      "50)actor_2_name_Eddie Marsan     0.001466\n",
      "51)director_name_John Singleton  0.001449\n",
      "52)actor_1_name_Loretta Devine   0.001442\n",
      "53)director_name_Chris Wedge     0.001415\n",
      "54)actor_1_name_Donald Pleasence 0.001410\n",
      "55)director_name_Baltasar Kormákur0.001400\n",
      "56)director_name_Stanley Kubrick 0.001397\n",
      "57)actor_2_name_Jada Pinkett Smith0.001392\n",
      "58)actor_2_name_Mary Lynn Rajskub0.001385\n",
      "59)director_name_Sam Mendes      0.001377\n",
      "60)actor_2_name_Christian Bale   0.001369\n"
     ]
    }
   ],
   "source": [
    "importances=forest.feature_importances_\n",
    "indices=np.argsort(importances)[::-1]\n",
    "feat_labels=X.columns\n",
    "for f in range(60):\n",
    "    print(\"%2d)%-*s%f\"%(f+1,30,feat_labels[indices[f]],importances[indices[f]]))"
   ]
  },
  {
   "cell_type": "code",
   "execution_count": 36,
   "metadata": {},
   "outputs": [],
   "source": [
    "import matplotlib as plt\n",
    "from matplotlib import rcParams\n",
    "%matplotlib inline\n",
    "rcParams['figure.figsize'] = 7,12"
   ]
  },
  {
   "cell_type": "code",
   "execution_count": 37,
   "metadata": {},
   "outputs": [
    {
     "data": {
      "text/plain": [
       "<matplotlib.axes._subplots.AxesSubplot at 0x1f2cc6d4198>"
      ]
     },
     "execution_count": 37,
     "metadata": {},
     "output_type": "execute_result"
    },
    {
     "data": {
      "image/png": "[encoded data removed]",
      "text/plain": [
       "<Figure size 504x864 with 1 Axes>"
      ]
     },
     "metadata": {
      "needs_background": "light"
     },
     "output_type": "display_data"
    }
   ],
   "source": [
    "feat_importances = pd.Series(importances, index=X.columns)\n",
    "feat_importances.nlargest(60).sort_values(ascending=True).plot(kind='barh')"
   ]
  },
  {
   "cell_type": "markdown",
   "metadata": {},
   "source": [
    "__Checking if the most important features (actors and directors) are positively or negatively correlated with the target:__"
   ]
  },
  {
   "cell_type": "code",
   "execution_count": 38,
   "metadata": {},
   "outputs": [
    {
     "data": {
      "text/plain": [
       "Index(['director_name_Steven Spielberg', 'actor_1_name_Tom Cruise',\n",
       "       'actor_1_name_Will Smith', 'actor_2_name_Morgan Freeman',\n",
       "       'director_name_Christopher Nolan', 'director_name_Michael Bay',\n",
       "       'director_name_George A. Romero', 'actor_1_name_Tom Hanks',\n",
       "       'actor_2_name_Thomas Kretschmann', 'actor_1_name_Robert Pattinson',\n",
       "       'actor_2_name_Brad Pitt', 'actor_1_name_Harrison Ford',\n",
       "       'director_name_Quentin Tarantino', 'actor_1_name_Scarlett Johansson',\n",
       "       'director_name_Jon M. Chu', 'director_name_M. Night Shyamalan',\n",
       "       'director_name_Rob Cohen', 'actor_2_name_Matt Damon',\n",
       "       'actor_1_name_Madeline Kahn', 'director_name_David Lean',\n",
       "       'director_name_Tom Shadyac', 'director_name_Carlos Saldanha',\n",
       "       'director_name_Shawn Levy', 'director_name_Joel Schumacher',\n",
       "       'director_name_Nicholas Stoller', 'director_name_Steve Carr',\n",
       "       'actor_1_name_Bill Murray', 'actor_3_name_Steve Coogan',\n",
       "       'actor_1_name_Adam Sandler', 'actor_1_name_Chloë Grace Moretz',\n",
       "       'director_name_Alfred Hitchcock', 'director_name_John Glen',\n",
       "       'actor_2_name_Adam Sandler', 'director_name_Guy Hamilton',\n",
       "       'actor_2_name_John Ratzenberger', 'director_name_Todd Phillips',\n",
       "       'actor_1_name_Jake Gyllenhaal', 'actor_1_name_Chris Hemsworth',\n",
       "       'director_name_Mikael Håfström', 'actor_1_name_Kane Hodder',\n",
       "       'director_name_John Moore', 'director_name_Michael Curtiz',\n",
       "       'director_name_Nick Cassavetes', 'actor_1_name_Judge Reinhold',\n",
       "       'director_name_Raja Gosnell', 'director_name_James Cameron',\n",
       "       'director_name_John Erick Dowdle', 'actor_1_name_Sylvester Stallone',\n",
       "       'actor_2_name_Monica Potter', 'actor_2_name_Eddie Marsan',\n",
       "       'director_name_John Singleton', 'actor_1_name_Loretta Devine',\n",
       "       'director_name_Chris Wedge', 'actor_1_name_Donald Pleasence',\n",
       "       'director_name_Baltasar Kormákur', 'director_name_Stanley Kubrick',\n",
       "       'actor_2_name_Jada Pinkett Smith', 'actor_2_name_Mary Lynn Rajskub',\n",
       "       'director_name_Sam Mendes', 'actor_2_name_Christian Bale'],\n",
       "      dtype='object')"
      ]
     },
     "execution_count": 38,
     "metadata": {},
     "output_type": "execute_result"
    }
   ],
   "source": [
    "actors=feat_importances.nlargest(60).index\n",
    "actors"
   ]
  },
  {
   "cell_type": "code",
   "execution_count": 39,
   "metadata": {},
   "outputs": [],
   "source": [
    "corr=cast[['director_name_Steven Spielberg', 'actor_1_name_Tom Cruise',\n",
    "       'actor_1_name_Will Smith', 'actor_2_name_Morgan Freeman',\n",
    "       'director_name_Christopher Nolan', 'director_name_Michael Bay',\n",
    "       'director_name_George A. Romero', 'actor_1_name_Tom Hanks',\n",
    "       'actor_2_name_Thomas Kretschmann', 'actor_1_name_Robert Pattinson',\n",
    "       'actor_2_name_Brad Pitt', 'actor_1_name_Harrison Ford',\n",
    "       'director_name_Quentin Tarantino', 'actor_1_name_Scarlett Johansson',\n",
    "       'director_name_Jon M. Chu', 'director_name_M. Night Shyamalan',\n",
    "       'director_name_Rob Cohen', 'actor_2_name_Matt Damon',\n",
    "       'actor_1_name_Madeline Kahn', 'director_name_David Lean',\n",
    "       'director_name_Tom Shadyac', 'director_name_Carlos Saldanha',\n",
    "       'director_name_Shawn Levy', 'director_name_Joel Schumacher',\n",
    "       'director_name_Nicholas Stoller', 'director_name_Steve Carr',\n",
    "       'actor_1_name_Bill Murray', 'actor_3_name_Steve Coogan',\n",
    "       'actor_1_name_Adam Sandler', 'actor_1_name_Chloë Grace Moretz',\n",
    "       'director_name_Alfred Hitchcock', 'director_name_John Glen',\n",
    "       'actor_2_name_Adam Sandler', 'director_name_Guy Hamilton',\n",
    "       'actor_2_name_John Ratzenberger', 'director_name_Todd Phillips',\n",
    "       'actor_1_name_Jake Gyllenhaal', 'actor_1_name_Chris Hemsworth',\n",
    "       'director_name_Mikael Håfström', 'actor_1_name_Kane Hodder',\n",
    "       'director_name_John Moore', 'director_name_Michael Curtiz',\n",
    "       'director_name_Nick Cassavetes', 'actor_1_name_Judge Reinhold',\n",
    "       'director_name_Raja Gosnell', 'director_name_James Cameron',\n",
    "       'director_name_John Erick Dowdle', 'actor_1_name_Sylvester Stallone',\n",
    "       'actor_2_name_Monica Potter', 'actor_2_name_Eddie Marsan',\n",
    "       'director_name_John Singleton', 'actor_1_name_Loretta Devine',\n",
    "       'director_name_Chris Wedge', 'actor_1_name_Donald Pleasence',\n",
    "       'director_name_Baltasar Kormákur', 'director_name_Stanley Kubrick',\n",
    "       'actor_2_name_Jada Pinkett Smith', 'actor_2_name_Mary Lynn Rajskub',\n",
    "       'director_name_Sam Mendes', 'actor_2_name_Christian Bale','target']].corr()"
   ]
  },
  {
   "cell_type": "code",
   "execution_count": 40,
   "metadata": {},
   "outputs": [
    {
     "data": {
      "text/plain": [
       "target                              1.000000\n",
       "actor_1_name_Tom Cruise             0.084073\n",
       "director_name_Steven Spielberg      0.075853\n",
       "actor_1_name_Tom Hanks              0.052385\n",
       "director_name_Quentin Tarantino     0.052102\n",
       "director_name_Christopher Nolan     0.052102\n",
       "actor_1_name_Will Smith             0.051922\n",
       "director_name_Michael Bay           0.051769\n",
       "actor_1_name_Robert Pattinson       0.048731\n",
       "actor_2_name_Matt Damon             0.048731\n",
       "actor_2_name_Brad Pitt              0.045940\n",
       "director_name_Raja Gosnell          0.045111\n",
       "actor_2_name_John Ratzenberger      0.045111\n",
       "director_name_Shawn Levy            0.042422\n",
       "actor_1_name_Chloë Grace Moretz     0.042422\n",
       "actor_2_name_Morgan Freeman         0.041679\n",
       "actor_1_name_Sylvester Stallone     0.041679\n",
       "actor_1_name_Madeline Kahn          0.041176\n",
       "director_name_George A. Romero      0.041176\n",
       "director_name_John Glen             0.041176\n",
       "director_name_Jon M. Chu            0.041176\n",
       "actor_2_name_Christian Bale         0.041176\n",
       "director_name_Alfred Hitchcock      0.041145\n",
       "actor_1_name_Harrison Ford          0.039710\n",
       "actor_2_name_Adam Sandler           0.038660\n",
       "actor_2_name_Thomas Kretschmann     0.037019\n",
       "director_name_Todd Phillips         0.037019\n",
       "director_name_James Cameron         0.037019\n",
       "director_name_Carlos Saldanha       0.036824\n",
       "director_name_Nick Cassavetes       0.036824\n",
       "                                      ...   \n",
       "actor_1_name_Donald Pleasence       0.036824\n",
       "director_name_John Erick Dowdle     0.036824\n",
       "director_name_Steve Carr            0.036824\n",
       "director_name_David Lean            0.036824\n",
       "director_name_M. Night Shyamalan    0.034606\n",
       "director_name_Stanley Kubrick       0.032462\n",
       "director_name_Joel Schumacher       0.032055\n",
       "director_name_Michael Curtiz        0.031887\n",
       "actor_1_name_Kane Hodder            0.031887\n",
       "actor_1_name_Loretta Devine         0.031887\n",
       "actor_1_name_Judge Reinhold         0.031887\n",
       "actor_2_name_Mary Lynn Rajskub      0.031887\n",
       "director_name_Baltasar Kormákur     0.031887\n",
       "director_name_Chris Wedge           0.031887\n",
       "actor_1_name_Scarlett Johansson     0.030566\n",
       "actor_3_name_Steve Coogan           0.030188\n",
       "actor_1_name_Jake Gyllenhaal        0.027531\n",
       "actor_1_name_Chris Hemsworth        0.027531\n",
       "director_name_Guy Hamilton          0.027321\n",
       "director_name_Nicholas Stoller      0.027321\n",
       "actor_2_name_Eddie Marsan           0.027321\n",
       "actor_1_name_Bill Murray            0.027035\n",
       "director_name_John Singleton        0.025307\n",
       "director_name_Tom Shadyac           0.025307\n",
       "director_name_Sam Mendes            0.025307\n",
       "director_name_Rob Cohen             0.024275\n",
       "actor_2_name_Monica Potter          0.021336\n",
       "director_name_John Moore            0.021336\n",
       "actor_1_name_Adam Sandler           0.019243\n",
       "actor_2_name_Jada Pinkett Smith     0.019232\n",
       "Name: target, Length: 61, dtype: float64"
      ]
     },
     "execution_count": 40,
     "metadata": {},
     "output_type": "execute_result"
    }
   ],
   "source": [
    "corr.target.sort_values(ascending=False)"
   ]
  },
  {
   "cell_type": "markdown",
   "metadata": {},
   "source": [
    "### Dream Team for a film ;)\n",
    "\n",
    "Combining the information about the feature importances and correlation we can assess which actors and directors have the most positive influence on a movie financial success. So according to the results obtained from this particular dataset the dream team for a film would be:\n",
    "\n",
    "* Director: Steven Spielberg\n",
    "* Actor in main role: Tom Cruise\n",
    "* Actress in main role: Scarlett Johansson\n",
    "* Actor in supporting role: Morgan Freeman\n",
    "* Actress in supporting role: Monica Potter"
   ]
  },
  {
   "cell_type": "code",
   "execution_count": null,
   "metadata": {},
   "outputs": [],
   "source": []
  }
 ],
 "metadata": {
  "kernelspec": {
   "display_name": "Python 3",
   "language": "python",
   "name": "python3"
  },
  "language_info": {
   "codemirror_mode": {
    "name": "ipython",
    "version": 3
   },
   "file_extension": ".py",
   "mimetype": "text/x-python",
   "name": "python",
   "nbconvert_exporter": "python",
   "pygments_lexer": "ipython3",
   "version": "3.6.6"
  }
 },
 "nbformat": 4,
 "nbformat_minor": 2
}
